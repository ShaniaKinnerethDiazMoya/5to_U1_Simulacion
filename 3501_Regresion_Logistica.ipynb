{
 "cells": [
  {
   "cell_type": "markdown",
   "id": "d3ad054e-9277-4e76-acb0-06a8e2361394",
   "metadata": {},
   "source": [
    "# Regresión Logistica: Detecion de SPAM\n",
    "\n",
    "En este ejercicio se muestran los fundamentos de la regresión logistica, planteando uno de los primeros problemas que fueron solucionados mediante el uso de técnicas de Matchine Learning: La detección de SPAM.\n",
    "\n",
    "## Enunciado del ejercicio\n",
    "\n",
    "Se propone la construccio de un sistema de aprendizaje automatico capaz de predecir un correo determinado se corresponde con un correo SPAM o no, para ello se utilizara el siguiente DataSet:\n",
    "\n",
    "##### [2007 TREC Public Spam Corpus](https)\n",
    "\n",
    "The corpus trec07p ontains 75,419 messager:\n"
   ]
  },
  {
   "cell_type": "markdown",
   "id": "4902e300-5d45-46cd-a6cb-2d9016949b87",
   "metadata": {},
   "source": [
    "Regresio logistica analisis de datos de dos variables, x y y.\n",
    "e = euler porque son discretos"
   ]
  },
  {
   "cell_type": "markdown",
   "id": "ba5b1885-a39b-48ea-b016-af8f96718975",
   "metadata": {},
   "source": [
    "ISP, lines de fibra para descarga y otra linea de fibra para carga RX y TX, \n",
    "llegan al comvertidor de medios lo que hace es recibir la fibra optica (luz) \n",
    "la combierte en cable de consola RJ45 en velocidad 10 gb, lo jalas a un Forty \n",
    "o Meraki la capa de seguridad en el modelo OSI (Capa no se que numero), del \n",
    "cable de consola sale el router bot y de ahi a otro router y ya se tiene el \n",
    "servicio de internet, si se asignan datos en la memoria ram del router asigna \n",
    "ip o reglas o vpn va mas lento el router \n",
    "\n",
    "El scrip o json se guarda en el Forty o Meraki (Capa de seguridad) antes de que entre a la estructura interna\n",
    "\n",
    "MOS y se llama winbox para administrar los microtik licencia de nivel 1 a 6 los mas comunes de 5 conseguir ese de 5"
   ]
  },
  {
   "cell_type": "code",
   "execution_count": 12,
   "id": "c4907ecf-1def-409a-a1b4-1cebf8524890",
   "metadata": {},
   "outputs": [],
   "source": [
    "# En esta clase se facilita el preprocesamineto de de correos electronicos que poseen codigo HTML\n",
    "from html.parser import HTMLParser # Pasar de codigo a numeros\n",
    "# Crear un constructor\n",
    "class MLStripper(HTMLParser): # depurar html\n",
    "    def __init__(self):\n",
    "        self.reset()\n",
    "        self.strict = False\n",
    "        self.convert_charrefs = True\n",
    "        self.fed = [] # ingerir los datos solo\n",
    "\n",
    "    def handle_data(self, d): # maneja los datos\n",
    "        self.fed.append(d)\n",
    "\n",
    "    def get_data(self):\n",
    "        return ''.join(self.fed)\n",
    "    "
   ]
  },
  {
   "cell_type": "code",
   "execution_count": 14,
   "id": "4bd359f0-0529-4b1a-b767-797396e3d44b",
   "metadata": {},
   "outputs": [],
   "source": [
    "# Esta funcion se encarga de eliminar los tags de HTML que se encuentren en el texto de los correos electrónicos\n",
    "def strip_tags(html):\n",
    "    s = MLStripper()\n",
    "    s.feed(html) # alimentar del html\n",
    "    return s.get_data()"
   ]
  },
  {
   "cell_type": "code",
   "execution_count": 16,
   "id": "24879497-8fc0-4148-8fc0-77b4913aae6b",
   "metadata": {},
   "outputs": [
    {
     "data": {
      "text/plain": [
       "'Phrack World News '"
      ]
     },
     "execution_count": 16,
     "metadata": {},
     "output_type": "execute_result"
    }
   ],
   "source": [
    "# Ejemplo de eliminacion de los tags HTML de un texto\n",
    "t = '<tr><td align=\"left\"><ahref=\"../../issues/51/16.html#article\">Phrack World News </a><td>'\n",
    "strip_tags(t)"
   ]
  },
  {
   "cell_type": "markdown",
   "id": "1a361e7a-ecbd-4185-abd7-edc9086a1eae",
   "metadata": {},
   "source": [
    "NLTK: NATURAL LENGUAJE TOOL KIT\n",
    "conjunto de bibliotecas para procesar un lenguaje natural propio al hablar (no mexica)\n",
    "criterio cualitativo de la IA:\n",
    "genotipos:\n",
    "reconocimiento de parametros\n",
    "modelos geometricos \n",
    "arboles de decision\n",
    "temas de linguistica"
   ]
  },
  {
   "cell_type": "markdown",
   "id": "2e2aef3c-e248-4367-93f5-b249884f3925",
   "metadata": {},
   "source": [
    "Ademas de eliminar los posibles tags HTML que se encuentran en el correo electronico, deben realizarse otras acciones para evitar que los mensajes contengan ruido inecesario. Entre ellas se encuentran la eliminacion de signos de puntuacion, eliminacion de los posibles campos de correo electronico que no sean relevantes o eliminacion de los afijos de una palabra manteniendo únicamente la raiz de la misma(Steamming). La clase que se muestra a continuacion realiza estas transformaciones."
   ]
  },
  {
   "cell_type": "code",
   "execution_count": 23,
   "id": "cdad9cc4-8658-4533-a887-4a15283ea2bf",
   "metadata": {},
   "outputs": [],
   "source": [
    "import email\n",
    "import string\n",
    "import nltk\n",
    "\n",
    "class Parser: # Produccion - casting - casteo\n",
    "    def __init__(self):\n",
    "        self.stemmer = nltk.PorterStemmer()\n",
    "        self.stopwords = set(nltk.corpus.stopwords.words('english'))\n",
    "        self.punctuation = list(string.punctuation)\n",
    "\n",
    "    def parse(self, email_path):\n",
    "        \"\"\"Parse an email.\"\"\"\n",
    "        with open(email_path, errors = 'ignore') as e:\n",
    "            msg = email.message_from_file(e)\n",
    "        return None if not msg else self.get_email_content(msg)\n",
    "\n",
    "    def get_email_content(self, msg):\n",
    "        \"\"\"Extract the email content.\"\"\"\n",
    "        subject = self.token(msg['Subject']) if msg ['Subject'] else []\n",
    "        body = set.get_email_body(msg.get_payload,\n",
    "                                 msg.get_content_type())\n",
    "        content_type = msg.get_content_type()\n",
    "        # Regresar el contenido del email\n",
    "        return {\"subject\": subject,\n",
    "                \"body\": body,\n",
    "                \"content_type\": content_type}\n",
    "\n",
    "    def get_email_body(self, payload, content_type):\n",
    "        \"\"\"Extract the body of the email.\"\"\"\n",
    "        body = []\n",
    "        if type(payload) is str and content_type == \"text/plain\":\n",
    "            return self.tokenize(payload)\n",
    "        elif type(payload) is str and content_type == \"text/html\":\n",
    "            return self.tokenize(strip_tags(payload))\n",
    "        elif type(payload) is list:\n",
    "            for p in payload:\n",
    "                body += self.get_email_body(p.get_payload(),\n",
    "                                           p.get_content_type())\n",
    "        return body\n",
    "\n",
    "    def tokenize(self, text):\n",
    "        \"\"\"Transform a text dtring in tokens. Performr two main actions,\n",
    "        clean the punctuation symbols and do stemming of tehe text.\"\"\"\n",
    "        for c in self.punctuation:\n",
    "            text = text.remplace(c, \"\")\n",
    "        text = text.replace(\"\\t\", \"\")\n",
    "        text = text.replace(\"\\n\", \"\")\n",
    "        tokens = list(filter(None, text.split(\"\")))\n",
    "        #Stemming of ther tokens \n",
    "        return [self.stemmer.stem(w) for w in tokens if w not in self.stopword]"
   ]
  },
  {
   "cell_type": "markdown",
   "id": "5fef996d-5b28-4506-b7c6-c719160688a1",
   "metadata": {},
   "source": [
    "Lectura de un correo en formato .raw"
   ]
  },
  {
   "cell_type": "code",
   "execution_count": 27,
   "id": "c988961b-7d58-459d-be54-43086de5c6f8",
   "metadata": {},
   "outputs": [
    {
     "name": "stdout",
     "output_type": "stream",
     "text": [
      "From RickyAmes@aol.com  Sun Apr  8 13:07:32 2007\n",
      "Return-Path: <RickyAmes@aol.com>\n",
      "Received: from 129.97.78.23 ([211.202.101.74])\n",
      "\tby speedy.uwaterloo.ca (8.12.8/8.12.5) with SMTP id l38H7G0I003017;\n",
      "\tSun, 8 Apr 2007 13:07:21 -0400\n",
      "Received: from 0.144.152.6 by 211.202.101.74; Sun, 08 Apr 2007 19:04:48 +0100\n",
      "Message-ID: <WYADCKPDFWWTWTXNFVUE@yahoo.com>\n",
      "From: \"Tomas Jacobs\" <RickyAmes@aol.com>\n",
      "Reply-To: \"Tomas Jacobs\" <RickyAmes@aol.com>\n",
      "To: the00@speedy.uwaterloo.ca\n",
      "Subject: Generic Cialis, branded quality@ \n",
      "Date: Sun, 08 Apr 2007 21:00:48 +0300\n",
      "X-Mailer: Microsoft Outlook Express 6.00.2600.0000\n",
      "MIME-Version: 1.0\n",
      "Content-Type: multipart/alternative;\n",
      "\tboundary=\"--8896484051606557286\"\n",
      "X-Priority: 3\n",
      "X-MSMail-Priority: Normal\n",
      "Status: RO\n",
      "Content-Length: 988\n",
      "Lines: 24\n",
      "\n",
      "----8896484051606557286\n",
      "Content-Type: text/html;\n",
      "Content-Transfer-Encoding: 7Bit\n",
      "\n",
      "<html>\n",
      "<body bgcolor=\"#ffffff\">\n",
      "<div style=\"border-color: #00FFFF; border-right-width: 0px; border-bottom-width: 0px; margin-bottom: 0px;\" align=\"center\">\n",
      "<table style=\"border: 1px; border-style: solid; border-color:#000000;\" cellpadding=\"5\" cellspacing=\"0\" bgcolor=\"#CCFFAA\">\n",
      "<tr>\n",
      "<td style=\"border: 0px; border-bottom: 1px; border-style: solid; border-color:#000000;\">\n",
      "<center>\n",
      "Do you feel the pressure to perform and not rising to the occasion??<br>\n",
      "</center>\n",
      "</td></tr><tr>\n",
      "<td bgcolor=#FFFF33 style=\"border: 0px; border-bottom: 1px; border-style: solid; border-color:#000000;\">\n",
      "<center>\n",
      "\n",
      "<b><a href='http://excoriationtuh.com/?lzmfnrdkleks'>Try <span>V</span><span>ia<span></span>gr<span>a</span>.....</a></b></center>\n",
      "</td></tr><td><center>your anxiety will be a thing of the past and you will<br>\n",
      "be back to your old self.\n",
      "</center></td></tr></table></div></body></html>\n",
      "\n",
      "\n",
      "----8896484051606557286--\n",
      "\n",
      "\n"
     ]
    }
   ],
   "source": [
    "inmail = open(\"datasets/trec07p/data/inmail.1\").read()\n",
    "print(inmail)"
   ]
  },
  {
   "cell_type": "code",
   "execution_count": null,
   "id": "692589a7-83b7-424a-9472-67ef5aa962e6",
   "metadata": {},
   "outputs": [],
   "source": []
  }
 ],
 "metadata": {
  "kernelspec": {
   "display_name": "Python 3 (ipykernel)",
   "language": "python",
   "name": "python3"
  },
  "language_info": {
   "codemirror_mode": {
    "name": "ipython",
    "version": 3
   },
   "file_extension": ".py",
   "mimetype": "text/x-python",
   "name": "python",
   "nbconvert_exporter": "python",
   "pygments_lexer": "ipython3",
   "version": "3.12.4"
  }
 },
 "nbformat": 4,
 "nbformat_minor": 5
}
